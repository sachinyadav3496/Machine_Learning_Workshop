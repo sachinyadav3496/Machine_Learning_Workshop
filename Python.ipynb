{
 "cells": [
  {
   "cell_type": "markdown",
   "metadata": {},
   "source": [
    "1.Data Types or Data Structure"
   ]
  },
  {
   "cell_type": "markdown",
   "metadata": {},
   "source": [
    "Numbers"
   ]
  },
  {
   "cell_type": "code",
   "execution_count": 1,
   "metadata": {},
   "outputs": [],
   "source": [
    "x = 5342343242342349823789471324719237492374892389479328479823749823794732948"
   ]
  },
  {
   "cell_type": "code",
   "execution_count": 2,
   "metadata": {},
   "outputs": [
    {
     "name": "stdout",
     "output_type": "stream",
     "text": [
      "5342343242342349823789471324719237492374892389479328479823749823794732948\n"
     ]
    }
   ],
   "source": [
    "print(x)"
   ]
  },
  {
   "cell_type": "code",
   "execution_count": 4,
   "metadata": {},
   "outputs": [
    {
     "data": {
      "text/plain": [
       "18937292072584601273304995156578464049427253285612823853075947848830808871531886002135445030655910208846371374439808578543494467186710535859374392681726563731132261019386389507842698041468593338764022920286691852818001865028269743040878966018295372248180564046595271950680961910767458048508755526722876453636542560377205027806446618564380800640263723584266271921007586119772618747975569506378560046408673728453491246259014183474333561906294988740645670450240571855126433783039234293984292360609669399378405079307961786352626516777982073066938558663153596028431465206711336134418585396241531897612719144816828076092339815125221289889049140633026012923666723867892704768766024082519225138310614880807846181438854664306328180097024"
      ]
     },
     "execution_count": 4,
     "metadata": {},
     "output_type": "execute_result"
    }
   ],
   "source": [
    "x ** 10"
   ]
  },
  {
   "cell_type": "code",
   "execution_count": 5,
   "metadata": {},
   "outputs": [],
   "source": [
    "x = 5.56433434"
   ]
  },
  {
   "cell_type": "code",
   "execution_count": 6,
   "metadata": {},
   "outputs": [
    {
     "data": {
      "text/plain": [
       "float"
      ]
     },
     "execution_count": 6,
     "metadata": {},
     "output_type": "execute_result"
    }
   ],
   "source": [
    "type(x)"
   ]
  },
  {
   "cell_type": "code",
   "execution_count": 7,
   "metadata": {},
   "outputs": [
    {
     "name": "stdout",
     "output_type": "stream",
     "text": [
      "5.56433434\n"
     ]
    }
   ],
   "source": [
    "print(x)"
   ]
  },
  {
   "cell_type": "code",
   "execution_count": 9,
   "metadata": {},
   "outputs": [],
   "source": [
    "c = 5 + 3j\n",
    "d = 5 - 3j"
   ]
  },
  {
   "cell_type": "code",
   "execution_count": 10,
   "metadata": {},
   "outputs": [
    {
     "data": {
      "text/plain": [
       "(34+0j)"
      ]
     },
     "execution_count": 10,
     "metadata": {},
     "output_type": "execute_result"
    }
   ],
   "source": [
    "c * d"
   ]
  },
  {
   "cell_type": "code",
   "execution_count": 11,
   "metadata": {},
   "outputs": [],
   "source": [
    "s = \"hello world\""
   ]
  },
  {
   "cell_type": "code",
   "execution_count": 12,
   "metadata": {},
   "outputs": [],
   "source": [
    "s = ' hi world'"
   ]
  },
  {
   "cell_type": "code",
   "execution_count": 13,
   "metadata": {},
   "outputs": [
    {
     "name": "stdout",
     "output_type": "stream",
     "text": [
      " hi world\n"
     ]
    }
   ],
   "source": [
    "print(s)"
   ]
  },
  {
   "cell_type": "code",
   "execution_count": 14,
   "metadata": {},
   "outputs": [
    {
     "data": {
      "text/plain": [
       "' '"
      ]
     },
     "execution_count": 14,
     "metadata": {},
     "output_type": "execute_result"
    }
   ],
   "source": [
    "s[0]"
   ]
  },
  {
   "cell_type": "code",
   "execution_count": 15,
   "metadata": {},
   "outputs": [],
   "source": [
    "s = \"Hello World\""
   ]
  },
  {
   "cell_type": "code",
   "execution_count": 16,
   "metadata": {},
   "outputs": [
    {
     "data": {
      "text/plain": [
       "'W'"
      ]
     },
     "execution_count": 16,
     "metadata": {},
     "output_type": "execute_result"
    }
   ],
   "source": [
    "s[6]"
   ]
  },
  {
   "cell_type": "code",
   "execution_count": 17,
   "metadata": {},
   "outputs": [
    {
     "data": {
      "text/plain": [
       "'Hello'"
      ]
     },
     "execution_count": 17,
     "metadata": {},
     "output_type": "execute_result"
    }
   ],
   "source": [
    "s[0:5]"
   ]
  },
  {
   "cell_type": "code",
   "execution_count": 18,
   "metadata": {},
   "outputs": [
    {
     "data": {
      "text/plain": [
       "'World'"
      ]
     },
     "execution_count": 18,
     "metadata": {},
     "output_type": "execute_result"
    }
   ],
   "source": [
    "s[6:]"
   ]
  },
  {
   "cell_type": "code",
   "execution_count": 19,
   "metadata": {},
   "outputs": [
    {
     "data": {
      "text/plain": [
       "'dlroW olleH'"
      ]
     },
     "execution_count": 19,
     "metadata": {},
     "output_type": "execute_result"
    }
   ],
   "source": [
    "s[::-1]"
   ]
  },
  {
   "cell_type": "code",
   "execution_count": 20,
   "metadata": {},
   "outputs": [
    {
     "data": {
      "text/plain": [
       "'Hello'"
      ]
     },
     "execution_count": 20,
     "metadata": {},
     "output_type": "execute_result"
    }
   ],
   "source": [
    "s[:5]"
   ]
  },
  {
   "cell_type": "code",
   "execution_count": 21,
   "metadata": {},
   "outputs": [
    {
     "data": {
      "text/plain": [
       "'World'"
      ]
     },
     "execution_count": 21,
     "metadata": {},
     "output_type": "execute_result"
    }
   ],
   "source": [
    "s[-5:]"
   ]
  },
  {
   "cell_type": "code",
   "execution_count": 22,
   "metadata": {},
   "outputs": [
    {
     "data": {
      "text/plain": [
       "'HloWrd'"
      ]
     },
     "execution_count": 22,
     "metadata": {},
     "output_type": "execute_result"
    }
   ],
   "source": [
    "s[::2]"
   ]
  },
  {
   "cell_type": "code",
   "execution_count": 23,
   "metadata": {},
   "outputs": [],
   "source": [
    "s = 'He said, \"she is beautiful.\"'"
   ]
  },
  {
   "cell_type": "code",
   "execution_count": 24,
   "metadata": {},
   "outputs": [
    {
     "name": "stdout",
     "output_type": "stream",
     "text": [
      "He said, \"she is beautiful.\"\n"
     ]
    }
   ],
   "source": [
    "print(s)"
   ]
  },
  {
   "cell_type": "code",
   "execution_count": 25,
   "metadata": {},
   "outputs": [],
   "source": [
    "s = \"hello\\n\\tworld\\n\\t\\thi\""
   ]
  },
  {
   "cell_type": "code",
   "execution_count": 26,
   "metadata": {},
   "outputs": [
    {
     "name": "stdout",
     "output_type": "stream",
     "text": [
      "hello\n",
      "\tworld\n",
      "\t\thi\n"
     ]
    }
   ],
   "source": [
    "print(s)"
   ]
  },
  {
   "cell_type": "code",
   "execution_count": 27,
   "metadata": {},
   "outputs": [],
   "source": [
    "s = \"\"\"\n",
    "<!Doctype html>\n",
    "<html>\n",
    "    <body>\n",
    "        <p>Hello world</p>\n",
    "        </body>\n",
    "        </html>\n",
    "\"\"\""
   ]
  },
  {
   "cell_type": "code",
   "execution_count": 28,
   "metadata": {},
   "outputs": [
    {
     "name": "stdout",
     "output_type": "stream",
     "text": [
      "\n",
      "<!Doctype html>\n",
      "<html>\n",
      "    <body>\n",
      "        <p>Hello world</p>\n",
      "        </body>\n",
      "        </html>\n",
      "\n"
     ]
    }
   ],
   "source": [
    "print(s)"
   ]
  },
  {
   "cell_type": "code",
   "execution_count": 29,
   "metadata": {},
   "outputs": [
    {
     "name": "stdout",
     "output_type": "stream",
     "text": [
      "'\\n<!Doctype html>\\n<html>\\n    <body>\\n        <p>Hello world</p>\\n        </body>\\n        </html>\\n'\n"
     ]
    }
   ],
   "source": [
    "print(repr(s))"
   ]
  },
  {
   "cell_type": "code",
   "execution_count": 31,
   "metadata": {},
   "outputs": [],
   "source": [
    "s = \"    Hello World     \""
   ]
  },
  {
   "cell_type": "code",
   "execution_count": 32,
   "metadata": {},
   "outputs": [
    {
     "name": "stdout",
     "output_type": "stream",
     "text": [
      "['__add__', '__class__', '__contains__', '__delattr__', '__dir__', '__doc__', '__eq__', '__format__', '__ge__', '__getattribute__', '__getitem__', '__getnewargs__', '__gt__', '__hash__', '__init__', '__init_subclass__', '__iter__', '__le__', '__len__', '__lt__', '__mod__', '__mul__', '__ne__', '__new__', '__reduce__', '__reduce_ex__', '__repr__', '__rmod__', '__rmul__', '__setattr__', '__sizeof__', '__str__', '__subclasshook__', 'capitalize', 'casefold', 'center', 'count', 'encode', 'endswith', 'expandtabs', 'find', 'format', 'format_map', 'index', 'isalnum', 'isalpha', 'isascii', 'isdecimal', 'isdigit', 'isidentifier', 'islower', 'isnumeric', 'isprintable', 'isspace', 'istitle', 'isupper', 'join', 'ljust', 'lower', 'lstrip', 'maketrans', 'partition', 'replace', 'rfind', 'rindex', 'rjust', 'rpartition', 'rsplit', 'rstrip', 'split', 'splitlines', 'startswith', 'strip', 'swapcase', 'title', 'translate', 'upper', 'zfill']\n"
     ]
    }
   ],
   "source": [
    "print(dir(s))"
   ]
  },
  {
   "cell_type": "code",
   "execution_count": 33,
   "metadata": {},
   "outputs": [
    {
     "data": {
      "text/plain": [
       "'Hello World'"
      ]
     },
     "execution_count": 33,
     "metadata": {},
     "output_type": "execute_result"
    }
   ],
   "source": [
    "s.strip()"
   ]
  },
  {
   "cell_type": "code",
   "execution_count": 34,
   "metadata": {},
   "outputs": [
    {
     "data": {
      "text/plain": [
       "'hello world'"
      ]
     },
     "execution_count": 34,
     "metadata": {},
     "output_type": "execute_result"
    }
   ],
   "source": [
    "\"------------------hello world-------------\".strip('-')"
   ]
  },
  {
   "cell_type": "code",
   "execution_count": 38,
   "metadata": {},
   "outputs": [],
   "source": [
    "s = \"hello world\\n\\t\\t\""
   ]
  },
  {
   "cell_type": "code",
   "execution_count": 39,
   "metadata": {},
   "outputs": [
    {
     "name": "stdout",
     "output_type": "stream",
     "text": [
      "hello world\n",
      "\t\t\n"
     ]
    }
   ],
   "source": [
    "print(s)"
   ]
  },
  {
   "cell_type": "code",
   "execution_count": 40,
   "metadata": {},
   "outputs": [
    {
     "data": {
      "text/plain": [
       "'hello world'"
      ]
     },
     "execution_count": 40,
     "metadata": {},
     "output_type": "execute_result"
    }
   ],
   "source": [
    "s.strip()"
   ]
  },
  {
   "cell_type": "code",
   "execution_count": 42,
   "metadata": {},
   "outputs": [],
   "source": [
    "s = \"Hello WoRLd\""
   ]
  },
  {
   "cell_type": "code",
   "execution_count": 43,
   "metadata": {},
   "outputs": [
    {
     "data": {
      "text/plain": [
       "'hELLO wOrlD'"
      ]
     },
     "execution_count": 43,
     "metadata": {},
     "output_type": "execute_result"
    }
   ],
   "source": [
    "s.swapcase()"
   ]
  },
  {
   "cell_type": "code",
   "execution_count": 44,
   "metadata": {},
   "outputs": [
    {
     "data": {
      "text/plain": [
       "'hello world'"
      ]
     },
     "execution_count": 44,
     "metadata": {},
     "output_type": "execute_result"
    }
   ],
   "source": [
    "s.lower()"
   ]
  },
  {
   "cell_type": "code",
   "execution_count": 45,
   "metadata": {},
   "outputs": [
    {
     "data": {
      "text/plain": [
       "'HELLO WORLD'"
      ]
     },
     "execution_count": 45,
     "metadata": {},
     "output_type": "execute_result"
    }
   ],
   "source": [
    "s.upper()"
   ]
  },
  {
   "cell_type": "code",
   "execution_count": 46,
   "metadata": {},
   "outputs": [
    {
     "data": {
      "text/plain": [
       "'Hello World'"
      ]
     },
     "execution_count": 46,
     "metadata": {},
     "output_type": "execute_result"
    }
   ],
   "source": [
    "s.title()"
   ]
  },
  {
   "cell_type": "code",
   "execution_count": 47,
   "metadata": {},
   "outputs": [
    {
     "data": {
      "text/plain": [
       "'Hello world'"
      ]
     },
     "execution_count": 47,
     "metadata": {},
     "output_type": "execute_result"
    }
   ],
   "source": [
    "s.capitalize()"
   ]
  },
  {
   "cell_type": "code",
   "execution_count": 48,
   "metadata": {},
   "outputs": [
    {
     "name": "stdout",
     "output_type": "stream",
     "text": [
      "Enter your name :             SaChIN yAdAv      \n",
      "Welcome user             SaChIN yAdAv       to the world of python.\n"
     ]
    }
   ],
   "source": [
    "name = input(\"Enter your name : \")\n",
    "print(f\"Welcome user {name} to the world of python.\")"
   ]
  },
  {
   "cell_type": "code",
   "execution_count": 49,
   "metadata": {},
   "outputs": [
    {
     "name": "stdout",
     "output_type": "stream",
     "text": [
      "Enter your name :              SaChIN yAdAv      \n",
      "Welcome user Sachin Yadav to the world of python.\n"
     ]
    }
   ],
   "source": [
    "name = input(\"Enter your name : \").strip().title()\n",
    "print(f\"Welcome user {name} to the world of python.\")"
   ]
  },
  {
   "cell_type": "code",
   "execution_count": 50,
   "metadata": {},
   "outputs": [],
   "source": [
    "s = \"\"\"hello world\n",
    "this is good\n",
    "    it's awesome\"\"\""
   ]
  },
  {
   "cell_type": "code",
   "execution_count": 51,
   "metadata": {},
   "outputs": [
    {
     "data": {
      "text/plain": [
       "\"hello world\\nthis is good\\n    it's awesome\""
      ]
     },
     "execution_count": 51,
     "metadata": {},
     "output_type": "execute_result"
    }
   ],
   "source": [
    "s"
   ]
  },
  {
   "cell_type": "code",
   "execution_count": 53,
   "metadata": {},
   "outputs": [],
   "source": [
    "l = s.split('\\n')"
   ]
  },
  {
   "cell_type": "code",
   "execution_count": 54,
   "metadata": {},
   "outputs": [
    {
     "data": {
      "text/plain": [
       "['hello world', 'this is good', \"    it's awesome\"]"
      ]
     },
     "execution_count": 54,
     "metadata": {},
     "output_type": "execute_result"
    }
   ],
   "source": [
    "l"
   ]
  },
  {
   "cell_type": "code",
   "execution_count": 57,
   "metadata": {},
   "outputs": [],
   "source": [
    "c = 0\n",
    "for item in l : \n",
    "    l1 = item.split()\n",
    "    for newitem in l1:\n",
    "        c += 1"
   ]
  },
  {
   "cell_type": "code",
   "execution_count": 58,
   "metadata": {},
   "outputs": [
    {
     "data": {
      "text/plain": [
       "7"
      ]
     },
     "execution_count": 58,
     "metadata": {},
     "output_type": "execute_result"
    }
   ],
   "source": [
    "c"
   ]
  },
  {
   "cell_type": "markdown",
   "metadata": {},
   "source": [
    "JSON --> Java script object notation"
   ]
  },
  {
   "cell_type": "code",
   "execution_count": 59,
   "metadata": {},
   "outputs": [],
   "source": [
    "d = { \n",
    "    'name': \"sachin yadav\",\n",
    "    'language' : ['hindi', 'english', 'marwadi'],\n",
    "    'eductaion' : {\n",
    "        'school' : { 'board':'RBSE', 'percentage':88, 'year':2008},\n",
    "        'high_school': {'board': 'RBSE', 'percentage':84, 'year':2010},\n",
    "        'graduation' : {'board':'RTU', 'percentatge':80, 'year': 2014}\n",
    "    }\n",
    "}"
   ]
  },
  {
   "cell_type": "code",
   "execution_count": 65,
   "metadata": {},
   "outputs": [
    {
     "name": "stdout",
     "output_type": "stream",
     "text": [
      "name = sachin yadav\n",
      "language = ['hindi', 'english', 'marwadi']\n",
      "eductaion\n",
      "school = {'board': 'RBSE', 'percentage': 88, 'year': 2008}\n",
      "high_school = {'board': 'RBSE', 'percentage': 84, 'year': 2010}\n",
      "graduation = {'board': 'RTU', 'percentatge': 80, 'year': 2014}\n",
      "eductaion = {'school': {'board': 'RBSE', 'percentage': 88, 'year': 2008}, 'high_school': {'board': 'RBSE', 'percentage': 84, 'year': 2010}, 'graduation': {'board': 'RTU', 'percentatge': 80, 'year': 2014}}\n"
     ]
    }
   ],
   "source": [
    "for key,value in d.items():\n",
    "    if isinstance(value, dict):\n",
    "        print(key)\n",
    "        for k,v in value.items():\n",
    "            print(k,'=', v)\n",
    "        \n",
    "    print(key,\"=\",value)"
   ]
  },
  {
   "cell_type": "code",
   "execution_count": 63,
   "metadata": {},
   "outputs": [],
   "source": [
    "a = {'name':'sachin'}"
   ]
  },
  {
   "cell_type": "code",
   "execution_count": 64,
   "metadata": {},
   "outputs": [
    {
     "data": {
      "text/plain": [
       "True"
      ]
     },
     "execution_count": 64,
     "metadata": {},
     "output_type": "execute_result"
    }
   ],
   "source": [
    "isinstance(a, dict)"
   ]
  },
  {
   "cell_type": "code",
   "execution_count": 66,
   "metadata": {},
   "outputs": [
    {
     "data": {
      "text/plain": [
       "{'name': 'sachin yadav',\n",
       " 'language': ['hindi', 'english', 'marwadi'],\n",
       " 'eductaion': {'school': {'board': 'RBSE', 'percentage': 88, 'year': 2008},\n",
       "  'high_school': {'board': 'RBSE', 'percentage': 84, 'year': 2010},\n",
       "  'graduation': {'board': 'RTU', 'percentatge': 80, 'year': 2014}}}"
      ]
     },
     "execution_count": 66,
     "metadata": {},
     "output_type": "execute_result"
    }
   ],
   "source": [
    "d"
   ]
  },
  {
   "cell_type": "code",
   "execution_count": 67,
   "metadata": {},
   "outputs": [
    {
     "data": {
      "text/plain": [
       "'sachin yadav'"
      ]
     },
     "execution_count": 67,
     "metadata": {},
     "output_type": "execute_result"
    }
   ],
   "source": [
    "d['name']"
   ]
  },
  {
   "cell_type": "code",
   "execution_count": 72,
   "metadata": {},
   "outputs": [
    {
     "data": {
      "text/plain": [
       "80"
      ]
     },
     "execution_count": 72,
     "metadata": {},
     "output_type": "execute_result"
    }
   ],
   "source": [
    "d['eductaion']['graduation']['percentatge']"
   ]
  },
  {
   "cell_type": "code",
   "execution_count": 74,
   "metadata": {},
   "outputs": [
    {
     "data": {
      "text/plain": [
       "'no information available'"
      ]
     },
     "execution_count": 74,
     "metadata": {},
     "output_type": "execute_result"
    }
   ],
   "source": [
    "d.get('sex', 'no information available')"
   ]
  },
  {
   "cell_type": "code",
   "execution_count": 76,
   "metadata": {},
   "outputs": [
    {
     "name": "stdout",
     "output_type": "stream",
     "text": [
      "yes it's true\n"
     ]
    }
   ],
   "source": [
    "if True:\n",
    "    print(\"yes it's true\")\n",
    "else:\n",
    "    print(\"yes it's false\")"
   ]
  },
  {
   "cell_type": "code",
   "execution_count": 77,
   "metadata": {},
   "outputs": [
    {
     "name": "stdout",
     "output_type": "stream",
     "text": [
      "yes it's false\n"
     ]
    }
   ],
   "source": [
    "if False:\n",
    "    print(\"yes it's true\")\n",
    "else:\n",
    "    print(\"yes it's false\")"
   ]
  },
  {
   "cell_type": "code",
   "execution_count": 78,
   "metadata": {},
   "outputs": [
    {
     "name": "stdout",
     "output_type": "stream",
     "text": [
      "b is greatest with value  23\n"
     ]
    }
   ],
   "source": [
    "a,b,c = (3,23,14)\n",
    "\n",
    "if a >= b and a >= c : \n",
    "    print(\"a is greatest with value \",a)\n",
    "elif b >= c:\n",
    "    print(\"b is greatest with value \",b)\n",
    "else:\n",
    "    print(\"c is greatest with value \",c)"
   ]
  },
  {
   "cell_type": "code",
   "execution_count": 79,
   "metadata": {},
   "outputs": [
    {
     "name": "stdout",
     "output_type": "stream",
     "text": [
      "hello  1\n",
      "hello  2\n",
      "hello  3\n",
      "hello  4\n",
      "hello  5\n",
      "hello  6\n",
      "hello  7\n",
      "hello  8\n",
      "hello  9\n",
      "hello  10\n"
     ]
    }
   ],
   "source": [
    "c = 1\n",
    "while c <= 10:\n",
    "    print(\"hello \", c)\n",
    "    c += 1"
   ]
  },
  {
   "cell_type": "code",
   "execution_count": 80,
   "metadata": {},
   "outputs": [],
   "source": [
    "import random"
   ]
  },
  {
   "cell_type": "code",
   "execution_count": 82,
   "metadata": {},
   "outputs": [
    {
     "name": "stdout",
     "output_type": "stream",
     "text": [
      "38\n",
      "39\n",
      "15\n",
      "40\n",
      "39\n",
      "37\n",
      "8\n",
      "37\n",
      "13\n",
      "9\n"
     ]
    }
   ],
   "source": [
    "for var in range(10):\n",
    "    \n",
    "    print(random.randint(1,50))"
   ]
  },
  {
   "cell_type": "markdown",
   "metadata": {},
   "source": [
    "Guess game "
   ]
  },
  {
   "cell_type": "code",
   "execution_count": 83,
   "metadata": {},
   "outputs": [
    {
     "name": "stdout",
     "output_type": "stream",
     "text": [
      "You have left  5\n",
      "Enter your guess(1,50) : 25\n",
      "HINT: Be in limits think lower\n",
      "You have left  4\n",
      "Enter your guess(1,50) : 1000\n",
      "you fullish person guess in range\n",
      "You have left  4\n",
      "Enter your guess(1,50) : 13\n",
      "HINT: Be big think Big\n",
      "You have left  3\n",
      "Enter your guess(1,50) : 19\n",
      "Wholaa!!! you have won the game\n"
     ]
    }
   ],
   "source": [
    "comGuess = random.randint(1,50)\n",
    "c = 1\n",
    "while c <= 5:\n",
    "    print(\"You have left \",6-c)\n",
    "    userGuess = int(input('Enter your guess(1,50) : '))\n",
    "    if userGuess < 1 or userGuess > 50:\n",
    "        print(\"you fullish person guess in range\")\n",
    "        continue\n",
    "    if userGuess > comGuess : \n",
    "        print(\"HINT: Be in limits think lower\")\n",
    "    elif userGuess < comGuess:\n",
    "        print(\"HINT: Be big think Big\")\n",
    "    else:\n",
    "        print(\"Wholaa!!! you have won the game\")\n",
    "        break\n",
    "    c += 1\n",
    "else:\n",
    "    print(\"you such a looser computer guess was \",comGuess)"
   ]
  },
  {
   "cell_type": "code",
   "execution_count": 84,
   "metadata": {},
   "outputs": [],
   "source": [
    "def guessgame():\n",
    "    comGuess = random.randint(1,50)\n",
    "    c = 1\n",
    "    while c <= 5:\n",
    "        print(\"You have left \",6-c)\n",
    "        userGuess = int(input('Enter your guess(1,50) : '))\n",
    "        if userGuess < 1 or userGuess > 50:\n",
    "            print(\"you fullish person guess in range\")\n",
    "            continue\n",
    "        if userGuess > comGuess : \n",
    "            print(\"HINT: Be in limits think lower\")\n",
    "        elif userGuess < comGuess:\n",
    "            print(\"HINT: Be big think Big\")\n",
    "        else:\n",
    "            print(\"Wholaa!!! you have won the game\")\n",
    "            break\n",
    "        c += 1\n",
    "    else:\n",
    "        print(\"you such a looser computer guess was \",comGuess)"
   ]
  },
  {
   "cell_type": "code",
   "execution_count": 86,
   "metadata": {},
   "outputs": [
    {
     "name": "stdout",
     "output_type": "stream",
     "text": [
      "Do want to play game  ? y/ny\n",
      "You have left  5\n",
      "Enter your guess(1,50) : 1\n",
      "HINT: Be big think Big\n",
      "You have left  4\n",
      "Enter your guess(1,50) : 2\n",
      "HINT: Be big think Big\n",
      "You have left  3\n",
      "Enter your guess(1,50) : 3\n",
      "HINT: Be big think Big\n",
      "You have left  2\n",
      "Enter your guess(1,50) : 4\n",
      "HINT: Be big think Big\n",
      "You have left  1\n",
      "Enter your guess(1,50) : 5\n",
      "HINT: Be big think Big\n",
      "you such a looser computer guess was  8\n",
      "Do want to play game  ? y/ny\n",
      "You have left  5\n",
      "Enter your guess(1,50) : 5\n",
      "HINT: Be big think Big\n",
      "You have left  4\n",
      "Enter your guess(1,50) : 4\n",
      "HINT: Be big think Big\n",
      "You have left  3\n",
      "Enter your guess(1,50) : 3\n",
      "HINT: Be big think Big\n",
      "You have left  2\n",
      "Enter your guess(1,50) : 2\n",
      "HINT: Be big think Big\n",
      "You have left  1\n",
      "Enter your guess(1,50) : 1\n",
      "HINT: Be big think Big\n",
      "you such a looser computer guess was  12\n",
      "Do want to play game  ? y/nn\n",
      "bye bye \n"
     ]
    }
   ],
   "source": [
    "while True:\n",
    "    ch = input(\"Do want to play game  ? y/n\").strip().lower()\n",
    "    if ch == 'y' or ch == 'yes':\n",
    "        \n",
    "        guessgame()\n",
    "    else:\n",
    "        print(\"bye bye \")\n",
    "        break"
   ]
  },
  {
   "cell_type": "code",
   "execution_count": null,
   "metadata": {},
   "outputs": [],
   "source": []
  }
 ],
 "metadata": {
  "kernelspec": {
   "display_name": "Python 3",
   "language": "python",
   "name": "python3"
  },
  "language_info": {
   "codemirror_mode": {
    "name": "ipython",
    "version": 3
   },
   "file_extension": ".py",
   "mimetype": "text/x-python",
   "name": "python",
   "nbconvert_exporter": "python",
   "pygments_lexer": "ipython3",
   "version": "3.7.4"
  }
 },
 "nbformat": 4,
 "nbformat_minor": 2
}
