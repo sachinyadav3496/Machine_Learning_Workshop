{
 "cells": [
  {
   "cell_type": "markdown",
   "metadata": {
    "slideshow": {
     "slide_type": "-"
    }
   },
   "source": [
    "<h1 style='color:green' >Basic Data Types in Python</h1>"
   ]
  },
  {
   "cell_type": "markdown",
   "metadata": {
    "slideshow": {
     "slide_type": "-"
    }
   },
   "source": [
    "![Title](data_type.png)"
   ]
  },
  {
   "cell_type": "markdown",
   "metadata": {},
   "source": [
    "1. Numbers\n",
    "2. Strings\n",
    "3. Lists\n",
    "4. Tuples\n",
    "5. Dictionary\n",
    "6. Sets"
   ]
  },
  {
   "cell_type": "code",
   "execution_count": 3,
   "metadata": {},
   "outputs": [
    {
     "name": "stdout",
     "output_type": "stream",
     "text": [
      "Type of x =  <class 'int'>\n",
      "Type of y =  <class 'float'>\n",
      "Type of Z =  <class 'complex'>\n",
      "Value of X =  5\n",
      "Value of y =  6.25\n",
      "Value of z =  (6+5j)\n"
     ]
    }
   ],
   "source": [
    "#Numbers\n",
    "#Intergers\n",
    "x = 5 # the x is a container which will contain a integer number 5\n",
    "#let's pring type of x\n",
    "print(\"Type of x = \",type(x))\n",
    "#Floats\n",
    "y = 6.25 # Now y will a float type container which holds value 6.25\n",
    "#let's print type of y \n",
    "print(\"Type of y = \",type(y))\n",
    "#Complex\n",
    "z = 6+5j #here j denotes complex number and it will store in z\n",
    "#let's print type of Z\n",
    "print(\"Type of Z = \",type(z))\n",
    "#Now print all values\n",
    "print(\"Value of X = \",x)\n",
    "print(\"Value of y = \",y)\n",
    "print(\"Value of z = \",z)"
   ]
  },
  {
   "cell_type": "code",
   "execution_count": 1,
   "metadata": {},
   "outputs": [
    {
     "name": "stdout",
     "output_type": "stream",
     "text": [
      "<class 'str'>\n",
      "hi I am string.\n",
      "Hi I am also String.\n",
      "HI I am a Paragraph.\n",
      "                            You see have multiple lines.\n",
      "So you can write your paragraph.\n",
      "    As you wish in python.\n",
      "    \n",
      "                by Python Strings\n",
      "\n"
     ]
    }
   ],
   "source": [
    "#Strings -> String is group of or collection of charcters\n",
    "#By default python supports utf-8 charcter set\n",
    "s = 'hi I am string.' #string can be define in single quotes\n",
    "s1 = \"Hi I am also String.\" #or it can be in double quotes\n",
    "s3=\"\"\"HI I am a Paragraph.\n",
    "                            You see have multiple lines.\n",
    "So you can write your paragraph.\n",
    "    As you wish in python.\n",
    "    \n",
    "                by Python Strings\n",
    "\"\"\"\n",
    "print(type(s))\n",
    "print(s)\n",
    "print(s1)\n",
    "print(s3)"
   ]
  },
  {
   "cell_type": "code",
   "execution_count": 6,
   "metadata": {},
   "outputs": [
    {
     "name": "stdout",
     "output_type": "stream",
     "text": [
      "He said, \"She is Beautiful.\"\n"
     ]
    }
   ],
   "source": [
    "newstring = \"He said, \\\"She is Beautiful.\\\"\" #C way\n",
    "print(newstring)"
   ]
  },
  {
   "cell_type": "code",
   "execution_count": 5,
   "metadata": {},
   "outputs": [
    {
     "name": "stdout",
     "output_type": "stream",
     "text": [
      "He said, \"She is Beautiful.\"\n"
     ]
    }
   ],
   "source": [
    "newstring1 = 'He said, \"She is Beautiful.\"'\n",
    "print(newstring1)"
   ]
  },
  {
   "cell_type": "code",
   "execution_count": 7,
   "metadata": {},
   "outputs": [
    {
     "name": "stdout",
     "output_type": "stream",
     "text": [
      "Total Charcters in String s is  11\n"
     ]
    }
   ],
   "source": [
    "s = \"Hello world\"\n",
    "print(\"Total Charcters in String s is \",len(s))"
   ]
  },
  {
   "cell_type": "code",
   "execution_count": 9,
   "metadata": {},
   "outputs": [
    {
     "name": "stdout",
     "output_type": "stream",
     "text": [
      "w\n",
      "w\n"
     ]
    }
   ],
   "source": [
    "one_char = s[6]\n",
    "print(one_char)\n",
    "same_char = s[-5]\n",
    "print(same_char)"
   ]
  },
  {
   "cell_type": "code",
   "execution_count": 2,
   "metadata": {},
   "outputs": [
    {
     "name": "stdout",
     "output_type": "stream",
     "text": [
      "Hello World\n",
      "World\n",
      "World\n"
     ]
    }
   ],
   "source": [
    "#slicing s[start:end:step]\n",
    "s = \"Hello World\"\n",
    "c = s[6:11]\n",
    "x = s[-5:]\n",
    "print(s)\n",
    "print(c)\n",
    "print(x)\n"
   ]
  },
  {
   "cell_type": "code",
   "execution_count": 3,
   "metadata": {},
   "outputs": [
    {
     "name": "stdout",
     "output_type": "stream",
     "text": [
      "dlroW olleH\n"
     ]
    }
   ],
   "source": [
    "y = s[::-1]\n",
    "print(y)"
   ]
  },
  {
   "cell_type": "code",
   "execution_count": 4,
   "metadata": {},
   "outputs": [
    {
     "name": "stdout",
     "output_type": "stream",
     "text": [
      "Hello Worl\n"
     ]
    }
   ],
   "source": [
    "z = s[:-1]\n",
    "print(z)"
   ]
  },
  {
   "cell_type": "code",
   "execution_count": 5,
   "metadata": {},
   "outputs": [
    {
     "name": "stdout",
     "output_type": "stream",
     "text": [
      "HloWrd\n"
     ]
    }
   ],
   "source": [
    "p = s[::2]\n",
    "print(p)"
   ]
  },
  {
   "cell_type": "code",
   "execution_count": 6,
   "metadata": {},
   "outputs": [
    {
     "name": "stdout",
     "output_type": "stream",
     "text": [
      "<class 'str'>\n"
     ]
    }
   ],
   "source": [
    "s = \"Hello Word\"\n",
    "print(type(s))"
   ]
  },
  {
   "cell_type": "code",
   "execution_count": 7,
   "metadata": {},
   "outputs": [
    {
     "name": "stdout",
     "output_type": "stream",
     "text": [
      "The Zen of Python, by Tim Peters\n",
      "\n",
      "Beautiful is better than ugly.\n",
      "Explicit is better than implicit.\n",
      "Simple is better than complex.\n",
      "Complex is better than complicated.\n",
      "Flat is better than nested.\n",
      "Sparse is better than dense.\n",
      "Readability counts.\n",
      "Special cases aren't special enough to break the rules.\n",
      "Although practicality beats purity.\n",
      "Errors should never pass silently.\n",
      "Unless explicitly silenced.\n",
      "In the face of ambiguity, refuse the temptation to guess.\n",
      "There should be one-- and preferably only one --obvious way to do it.\n",
      "Although that way may not be obvious at first unless you're Dutch.\n",
      "Now is better than never.\n",
      "Although never is often better than *right* now.\n",
      "If the implementation is hard to explain, it's a bad idea.\n",
      "If the implementation is easy to explain, it may be a good idea.\n",
      "Namespaces are one honking great idea -- let's do more of those!\n"
     ]
    }
   ],
   "source": [
    "import this"
   ]
  },
  {
   "cell_type": "code",
   "execution_count": 16,
   "metadata": {},
   "outputs": [
    {
     "name": "stdout",
     "output_type": "stream",
     "text": [
      "['__add__', '__class__', '__contains__', '__delattr__', '__dir__', '__doc__', '__eq__', '__format__', '__ge__', '__getattribute__', '__getitem__', '__getnewargs__', '__gt__', '__hash__', '__init__', '__init_subclass__', '__iter__', '__le__', '__len__', '__lt__', '__mod__', '__mul__', '__ne__', '__new__', '__reduce__', '__reduce_ex__', '__repr__', '__rmod__', '__rmul__', '__setattr__', '__sizeof__', '__str__', '__subclasshook__', 'capitalize', 'casefold', 'center', 'count', 'encode', 'endswith', 'expandtabs', 'find', 'format', 'format_map', 'index', 'isalnum', 'isalpha', 'isdecimal', 'isdigit', 'isidentifier', 'islower', 'isnumeric', 'isprintable', 'isspace', 'istitle', 'isupper', 'join', 'ljust', 'lower', 'lstrip', 'maketrans', 'partition', 'replace', 'rfind', 'rindex', 'rjust', 'rpartition', 'rsplit', 'rstrip', 'split', 'splitlines', 'startswith', 'strip', 'swapcase', 'title', 'translate', 'upper', 'zfill']\n"
     ]
    }
   ],
   "source": [
    "s = \"Hello World\"\n",
    "print(dir(s))"
   ]
  },
  {
   "cell_type": "code",
   "execution_count": 17,
   "metadata": {},
   "outputs": [
    {
     "name": "stdout",
     "output_type": "stream",
     "text": [
      "S.center(width[, fillchar]) -> str\n",
      "\n",
      "Return S centered in a string of length width. Padding is\n",
      "done using the specified fill character (default is a space)\n"
     ]
    }
   ],
   "source": [
    "# . is known as access specifier\n",
    "x = s.center.__doc__\n",
    "print(x)"
   ]
  },
  {
   "cell_type": "code",
   "execution_count": 21,
   "metadata": {},
   "outputs": [
    {
     "name": "stdout",
     "output_type": "stream",
     "text": [
      "-----------------------------------------------------------------------------------------------------------------------------------------------------------------------------------------------------------------------------------------------------------------------------Hello World------------------------------------------------------------------------------------------------------------------------------------------------------------------------------------------------------------------------------------------------------------------------------\n"
     ]
    }
   ],
   "source": [
    "y = s.center(550,'-')\n",
    "print(y)"
   ]
  },
  {
   "cell_type": "code",
   "execution_count": 22,
   "metadata": {},
   "outputs": [
    {
     "name": "stdout",
     "output_type": "stream",
     "text": [
      "s.upper() =  HELLO WORLD!!\n",
      "S.lower() =  hello world!!\n",
      "s.swapcase() =  hEllO wOrLd!!\n"
     ]
    }
   ],
   "source": [
    "s = \"HeLLo WoRlD!!\"\n",
    "u = s.upper()\n",
    "l = s.lower()\n",
    "k = s.swapcase()\n",
    "print(\"s.upper() = \",u)\n",
    "print(\"S.lower() = \",l)\n",
    "print(\"s.swapcase() = \",k)"
   ]
  },
  {
   "cell_type": "code",
   "execution_count": 23,
   "metadata": {},
   "outputs": [
    {
     "name": "stdout",
     "output_type": "stream",
     "text": [
      "String is  - '         HeLLo WoRLd!!        '\n",
      "After Strip String is - 'HeLLo WoRLd!!'\n",
      "After Lstrip String is - 'HeLLo WoRLd!!        '\n",
      "After Rstrip String is - '         HeLLo WoRLd!!'\n"
     ]
    }
   ],
   "source": [
    "s = \"         HeLLo WoRLd!!        \"\n",
    "k = s.strip() #both leading and trailing spaces removed\n",
    "l = s.lstrip() #remove leading spaces\n",
    "r = s.rstrip() #remove trailing spaces\n",
    "print(\"String is  - '{}'\".format(s))\n",
    "print(\"After Strip String is - '{}'\".format(k))\n",
    "print(\"After Lstrip String is - '{}'\".format(l))\n",
    "print(\"After Rstrip String is - '{}'\".format(r))"
   ]
  },
  {
   "cell_type": "code",
   "execution_count": 33,
   "metadata": {},
   "outputs": [
    {
     "name": "stdout",
     "output_type": "stream",
     "text": [
      "6\n",
      "-1\n",
      "Every dog is not a real dog.\n",
      "Every DOG is not a real DOG.\n",
      "('Every ', 'dog', ' is not a real dog.')\n",
      "['Every ', ' is not a real ', '.']\n",
      "2\n"
     ]
    }
   ],
   "source": [
    "s = \"Every dog is not a real dog.\"\n",
    "x = s.find(\"dog\")#return pos (index) where pattern firest match\n",
    "print(x)\n",
    "y = s.find(\"cat\")#return -1 if there is no pattern found in string\n",
    "print(y)\n",
    "z = s.replace(\"dog\",\"DOG\") # replace old patterns with new pattern\n",
    "print(s)\n",
    "print(z)\n",
    "sm = s.partition('dog')\n",
    "ms = s.split('dog')\n",
    "print(sm)\n",
    "print(ms)\n",
    "c = s.count('dog')\n",
    "print(c)"
   ]
  },
  {
   "cell_type": "code",
   "execution_count": 27,
   "metadata": {},
   "outputs": [
    {
     "name": "stdout",
     "output_type": "stream",
     "text": [
      "All cat's are not cat but all dogs behaving like cat's\n",
      "All dog's are not dog but all dogs behaving like dog's\n"
     ]
    }
   ],
   "source": [
    "s = \"All cat's are not cat but all dogs behaving like cat's\"\n",
    "x = s.replace(\"cat\",\"dog\")\n",
    "print(s)\n",
    "print(x)"
   ]
  },
  {
   "cell_type": "code",
   "execution_count": 34,
   "metadata": {},
   "outputs": [
    {
     "name": "stdout",
     "output_type": "stream",
     "text": [
      "['Hello', 'World', 'Welcome', 'to', 'python']\n",
      "('Hello ', 'World', ' Welcome to python')\n",
      "Hello-World-Welcome-to-python\n"
     ]
    }
   ],
   "source": [
    "s = \"Hello World Welcome to python\"\n",
    "x = s.split() #by default split string from spaces\n",
    "y = s.partition('World') #Will partition string from world\n",
    "print(x)\n",
    "print(y)\n",
    "abc = '-'.join(x)\n",
    "print(abc)"
   ]
  },
  {
   "cell_type": "code",
   "execution_count": 38,
   "metadata": {},
   "outputs": [
    {
     "name": "stdout",
     "output_type": "stream",
     "text": [
      "a^--^b^--^c^--^d\n",
      "Hello World\n"
     ]
    }
   ],
   "source": [
    "s = \"abcd\"\n",
    "k = '^--^'.join(s)\n",
    "print(k)\n",
    "s = \"Hello World\"\n",
    "print(s)"
   ]
  },
  {
   "cell_type": "markdown",
   "metadata": {},
   "source": [
    "<h1 style='color:gray' >List Data Type in Python</h1>"
   ]
  },
  {
   "cell_type": "markdown",
   "metadata": {},
   "source": [
    "list is a collection of homogenous or hetrogenous data elements.\n",
    "All arrays are list but all list are not arrays.\n"
   ]
  },
  {
   "cell_type": "code",
   "execution_count": 40,
   "metadata": {},
   "outputs": [
    {
     "name": "stdout",
     "output_type": "stream",
     "text": [
      "[34, 4, 542, 43, 2324, 63423, 2345, 432334]\n",
      "['Hello', 'World', 'Welcome', 'to', 'python', 'list']\n"
     ]
    }
   ],
   "source": [
    "mylist = [ 34, 4, 542, 43, 2324, 63423, 2345, 432334,] #list initlization\n",
    "#This is homogenous list can be called as interger array\n",
    "mylist1 = [ \"Hello\", \"World\",\"Welcome\",\"to\",\"python\",\"list\" ]\n",
    "#indexing, slicing\n",
    "print(mylist)\n",
    "print(mylist1)\n"
   ]
  },
  {
   "cell_type": "code",
   "execution_count": 42,
   "metadata": {},
   "outputs": [
    {
     "name": "stdout",
     "output_type": "stream",
     "text": [
      "63423\n",
      "6\n"
     ]
    }
   ],
   "source": [
    "s = mylist[5]\n",
    "print(s)\n",
    "print(len(mylist1))"
   ]
  },
  {
   "cell_type": "code",
   "execution_count": 43,
   "metadata": {},
   "outputs": [
    {
     "name": "stdout",
     "output_type": "stream",
     "text": [
      "['Welcome', 'to', 'python', 'list']\n"
     ]
    }
   ],
   "source": [
    "y  = mylist1[2:6]\n",
    "print(y)"
   ]
  },
  {
   "cell_type": "code",
   "execution_count": 44,
   "metadata": {},
   "outputs": [
    {
     "name": "stdout",
     "output_type": "stream",
     "text": [
      "['Hello', 'World', 'Welcome']\n"
     ]
    }
   ],
   "source": [
    "x = mylist1[:3]\n",
    "print(x)"
   ]
  },
  {
   "cell_type": "code",
   "execution_count": 45,
   "metadata": {},
   "outputs": [
    {
     "name": "stdout",
     "output_type": "stream",
     "text": [
      "[9, 8, 7, 6, 5, 4, 3, 2, 1]\n"
     ]
    }
   ],
   "source": [
    "l = [ 1,2,3,4,5,6,7,8,9]\n",
    "r = l[::-1]\n",
    "print(r)"
   ]
  },
  {
   "cell_type": "code",
   "execution_count": 47,
   "metadata": {},
   "outputs": [
    {
     "name": "stdout",
     "output_type": "stream",
     "text": [
      "5\n"
     ]
    }
   ],
   "source": [
    "d2 = [\n",
    "    [1,2,3],\n",
    "    [4,5,6],\n",
    "    [7,8,9],\n",
    "]\n",
    "print(d2[1][1])\n"
   ]
  },
  {
   "cell_type": "code",
   "execution_count": 48,
   "metadata": {},
   "outputs": [
    {
     "name": "stdout",
     "output_type": "stream",
     "text": [
      "['__add__', '__class__', '__contains__', '__delattr__', '__delitem__', '__dir__', '__doc__', '__eq__', '__format__', '__ge__', '__getattribute__', '__getitem__', '__gt__', '__hash__', '__iadd__', '__imul__', '__init__', '__init_subclass__', '__iter__', '__le__', '__len__', '__lt__', '__mul__', '__ne__', '__new__', '__reduce__', '__reduce_ex__', '__repr__', '__reversed__', '__rmul__', '__setattr__', '__setitem__', '__sizeof__', '__str__', '__subclasshook__', 'append', 'clear', 'copy', 'count', 'extend', 'index', 'insert', 'pop', 'remove', 'reverse', 'sort']\n"
     ]
    }
   ],
   "source": [
    "print(dir(l))"
   ]
  },
  {
   "cell_type": "markdown",
   "metadata": {},
   "source": [
    "Built-in Functions to add items in list\n",
    "1. mylist.append(item)\n",
    "2. mylist.insert(index,item)\n",
    "3. mylist.extend(seq)"
   ]
  },
  {
   "cell_type": "code",
   "execution_count": 49,
   "metadata": {},
   "outputs": [
    {
     "name": "stdout",
     "output_type": "stream",
     "text": [
      "['hello', 1, 2, 3.14]\n",
      "['hello', 1, 2, 3.14, 5, 'world', [1, 2, 3, 4, 5, 6]]\n"
     ]
    }
   ],
   "source": [
    "#mylist.append(item) -> it will add item into list mylist at the end\n",
    "mylist = [ 'hello',1,2,3.14,]\n",
    "print(mylist)\n",
    "mylist.append(5)\n",
    "mylist.append('world')\n",
    "mylist.append([1,2,3,4,5,6])\n",
    "print(mylist)"
   ]
  },
  {
   "cell_type": "code",
   "execution_count": 51,
   "metadata": {},
   "outputs": [
    {
     "name": "stdout",
     "output_type": "stream",
     "text": [
      "['python', 1, 5, 3, 'bye', 324, 21, 3.14, 'hello', 'hi']\n"
     ]
    }
   ],
   "source": [
    "#mylist.insert(index,item)\n",
    "mylist = [ 1,5,3,324,21,'hello','hi']\n",
    "mylist.insert(3,'bye') #[1,5,3,'bye',324,21,'hello','hi']\n",
    "mylist.insert(0,'python')#['python',1,5,3,'bye',324,21,'hello','hi']\n",
    "mylist.insert(-2,3.14) #['python',1,5,3,'bye',324,21,3.14'hello','hi]\n",
    "print(mylist)"
   ]
  },
  {
   "cell_type": "code",
   "execution_count": 52,
   "metadata": {},
   "outputs": [
    {
     "name": "stdout",
     "output_type": "stream",
     "text": [
      "[1, 'hello', 5, 8, 'p', 'y', 't', 'h', 'o', 'n']\n"
     ]
    }
   ],
   "source": [
    "l = [ 1,'hello',5,8]\n",
    "l.extend('python')\n",
    "print(l)"
   ]
  },
  {
   "cell_type": "code",
   "execution_count": 53,
   "metadata": {},
   "outputs": [
    {
     "name": "stdout",
     "output_type": "stream",
     "text": [
      "['hello', 'hi', 'bye', 1, 2, 3, 'python', 'java', 'c', 'c++', 3.14]\n"
     ]
    }
   ],
   "source": [
    "l = ['hello','hi','bye',1,2,3]\n",
    "l.extend(['python','java','c','c++',3.14])\n",
    "print(l)"
   ]
  },
  {
   "cell_type": "code",
   "execution_count": 55,
   "metadata": {},
   "outputs": [
    {
     "name": "stdout",
     "output_type": "stream",
     "text": [
      "[1, 2, 3, 4, 5, 6]\n",
      "[4, 5, 6, [1, 2, 3, 4, 5, 6]]\n"
     ]
    }
   ],
   "source": [
    "k = [1,2,3]\n",
    "p = [4,5,6]\n",
    "k.extend(p)\n",
    "print(k)\n",
    "p.append(k)\n",
    "print(p)"
   ]
  },
  {
   "cell_type": "markdown",
   "metadata": {},
   "source": [
    "Built-in List Function to remove a item for list mylist\n",
    "1. mylist.pop() -> will las element from list ( opposite of append) and return deleted item\n",
    "2. mylist.pop(index) -> will delete item from mylist which position at index no index\n",
    "3. mylist.remove(item) -> will search occurence of item and delet first occurence of item from list"
   ]
  },
  {
   "cell_type": "code",
   "execution_count": 57,
   "metadata": {},
   "outputs": [
    {
     "name": "stdout",
     "output_type": "stream",
     "text": [
      "[1, 2, 3, 4, 5, 6, 7, 8, 9, 10]\n",
      "Item1  10\n",
      "Item2  9\n",
      "Item3  1\n",
      "Item4  6\n",
      "[2, 3, 4, 5, 7, 8]\n"
     ]
    }
   ],
   "source": [
    "l = [ 1,2,3,4,5,6,7,8,9,10]\n",
    "print(l)\n",
    "item1 = l.pop()\n",
    "item2 = l.pop()\n",
    "item3 = l.pop(0)\n",
    "item4 = l.pop(4)\n",
    "print(\"Item1 \",item1)\n",
    "print(\"Item2 \",item2)\n",
    "print(\"Item3 \",item3)\n",
    "print(\"Item4 \",item4)\n",
    "print(l)"
   ]
  },
  {
   "cell_type": "code",
   "execution_count": 59,
   "metadata": {},
   "outputs": [
    {
     "name": "stdout",
     "output_type": "stream",
     "text": [
      "['hello', 1, 2, 3, 75, 'java']\n",
      "['hello', 1, 2, 3, 'java']\n"
     ]
    }
   ],
   "source": [
    "#remove\n",
    "l = [ \"hello\",1,2,3,\"python\",75,\"java\"]\n",
    "l.remove(\"python\")\n",
    "print(l)\n",
    "l.remove(75)\n",
    "print(l)"
   ]
  },
  {
   "cell_type": "code",
   "execution_count": 63,
   "metadata": {},
   "outputs": [
    {
     "name": "stdout",
     "output_type": "stream",
     "text": [
      "one  3\n",
      "two  3\n",
      "three  3\n",
      "[1, 2, 3, 1, 2, 3]\n",
      "one  2\n",
      "two  2\n",
      "three  2\n"
     ]
    }
   ],
   "source": [
    "l = [ 1,2,3,1,2,3,1,2,3]\n",
    "#mylist.count(item) -> return a num which show repeatation \n",
    "#of item in list\n",
    "one = l.count(1)\n",
    "two = l.count(2)\n",
    "three = l.count(3)\n",
    "print(\"one \",one)\n",
    "print(\"two \",two)\n",
    "print(\"three \",three)\n",
    "l.remove(1)\n",
    "l.remove(2)\n",
    "l.remove(3)\n",
    "one = l.count(1)\n",
    "two = l.count(2)\n",
    "three = l.count(3)\n",
    "print(l)\n",
    "print(\"one \",one)\n",
    "print(\"two \",two)\n",
    "print(\"three \",three)"
   ]
  },
  {
   "cell_type": "markdown",
   "metadata": {},
   "source": [
    "other function of list sort, reverse, index, clear"
   ]
  },
  {
   "cell_type": "code",
   "execution_count": 65,
   "metadata": {},
   "outputs": [
    {
     "name": "stdout",
     "output_type": "stream",
     "text": [
      "[1, 5, 23, 34, 46, 53, 231, 432]\n",
      "[432, 231, 53, 46, 34, 23, 5, 1]\n",
      "['abc', 'good to go', 'hello', \"let's see\", 'what happens']\n",
      "['what happens', \"let's see\", 'hello', 'good to go', 'abc']\n"
     ]
    }
   ],
   "source": [
    "l = [ 23,34,231,1,5,46,53,432]\n",
    "l.sort()\n",
    "print(l)\n",
    "l.sort(reverse=True)\n",
    "print(l)\n",
    "l = [ \"hello\",\"abc\",\"good to go\",\"let's see\",\"what happens\"]\n",
    "l.sort()\n",
    "print(l)\n",
    "l.sort(reverse=True)\n",
    "print(l)"
   ]
  },
  {
   "cell_type": "code",
   "execution_count": 69,
   "metadata": {},
   "outputs": [
    {
     "name": "stdout",
     "output_type": "stream",
     "text": [
      "['bye bye', 'bye', 'hi', 'hello']\n",
      "['bye', 'bye bye', 'hello', 'hi']\n",
      "[]\n"
     ]
    }
   ],
   "source": [
    "l = [ \"hello\",\"hi\",\"bye\",\"bye bye\"]\n",
    "l.reverse()\n",
    "print(l)\n",
    "l.sort()\n",
    "print(l)\n",
    "l.clear()\n",
    "print(l)"
   ]
  },
  {
   "cell_type": "code",
   "execution_count": 70,
   "metadata": {},
   "outputs": [
    {
     "name": "stdout",
     "output_type": "stream",
     "text": [
      "3\n",
      "2\n"
     ]
    }
   ],
   "source": [
    "l = [ 1,2,3,\"hello\",\"hi\",\"bye\",1,2,3,\"Hello\",\"hi\",\"bye\"]\n",
    "x  = l.index(\"hello\")\n",
    "y = l.index(3)\n",
    "print(x)\n",
    "print(y)"
   ]
  },
  {
   "cell_type": "code",
   "execution_count": 86,
   "metadata": {},
   "outputs": [
    {
     "name": "stdout",
     "output_type": "stream",
     "text": [
      "[1, 2, 3, 4]\n",
      "Hello World\n",
      "1 2 3 4\n",
      "H e l l o   W o r l d\n",
      "[1, 2, 'python', 4]\n"
     ]
    }
   ],
   "source": [
    "l = [1,2,3,4]\n",
    "s = \"Hello World\"\n",
    "print(l)\n",
    "print(s)\n",
    "print(*l)\n",
    "print(*s)\n",
    "l[2] = \"python\"\n",
    "print(l)"
   ]
  },
  {
   "cell_type": "markdown",
   "metadata": {},
   "source": [
    "Tuple is immmutable data type "
   ]
  },
  {
   "cell_type": "code",
   "execution_count": 71,
   "metadata": {},
   "outputs": [
    {
     "name": "stdout",
     "output_type": "stream",
     "text": [
      "<class 'tuple'>\n",
      "['__add__', '__class__', '__contains__', '__delattr__', '__dir__', '__doc__', '__eq__', '__format__', '__ge__', '__getattribute__', '__getitem__', '__getnewargs__', '__gt__', '__hash__', '__init__', '__init_subclass__', '__iter__', '__le__', '__len__', '__lt__', '__mul__', '__ne__', '__new__', '__reduce__', '__reduce_ex__', '__repr__', '__rmul__', '__setattr__', '__sizeof__', '__str__', '__subclasshook__', 'count', 'index']\n"
     ]
    }
   ],
   "source": [
    "k = ( 1,2,3,'hello','hi')\n",
    "print(type(k))\n",
    "print(dir(k))"
   ]
  },
  {
   "cell_type": "code",
   "execution_count": 78,
   "metadata": {},
   "outputs": [
    {
     "name": "stdout",
     "output_type": "stream",
     "text": [
      "['__abs__', '__add__', '__and__', '__bool__', '__ceil__', '__class__', '__delattr__', '__dir__', '__divmod__', '__doc__', '__eq__', '__float__', '__floor__', '__floordiv__', '__format__', '__ge__', '__getattribute__', '__getnewargs__', '__gt__', '__hash__', '__index__', '__init__', '__init_subclass__', '__int__', '__invert__', '__le__', '__lshift__', '__lt__', '__mod__', '__mul__', '__ne__', '__neg__', '__new__', '__or__', '__pos__', '__pow__', '__radd__', '__rand__', '__rdivmod__', '__reduce__', '__reduce_ex__', '__repr__', '__rfloordiv__', '__rlshift__', '__rmod__', '__rmul__', '__ror__', '__round__', '__rpow__', '__rrshift__', '__rshift__', '__rsub__', '__rtruediv__', '__rxor__', '__setattr__', '__sizeof__', '__str__', '__sub__', '__subclasshook__', '__truediv__', '__trunc__', '__xor__', 'bit_length', 'conjugate', 'denominator', 'from_bytes', 'imag', 'numerator', 'real', 'to_bytes']\n",
      "28\n",
      "11\n"
     ]
    }
   ],
   "source": [
    "x = 1234\n",
    "print(dir(x))\n",
    "print(x.__sizeof__())\n",
    "print(x.bit_length())"
   ]
  },
  {
   "cell_type": "code",
   "execution_count": 79,
   "metadata": {},
   "outputs": [
    {
     "name": "stdout",
     "output_type": "stream",
     "text": [
      "<class 'dict'>\n",
      "{'key': 'value', 'name': 'python', 'year': 1991, 'frame works': ['Django', 'Flask', 'Web2py']}\n",
      "['__class__', '__contains__', '__delattr__', '__delitem__', '__dir__', '__doc__', '__eq__', '__format__', '__ge__', '__getattribute__', '__getitem__', '__gt__', '__hash__', '__init__', '__init_subclass__', '__iter__', '__le__', '__len__', '__lt__', '__ne__', '__new__', '__reduce__', '__reduce_ex__', '__repr__', '__setattr__', '__setitem__', '__sizeof__', '__str__', '__subclasshook__', 'clear', 'copy', 'fromkeys', 'get', 'items', 'keys', 'pop', 'popitem', 'setdefault', 'update', 'values']\n"
     ]
    }
   ],
   "source": [
    "mydict = {\n",
    "    'key':'value',\n",
    "    'name':'python',\n",
    "    'year':1991,\n",
    "    'frame works':['Django','Flask','Web2py']\n",
    "}\n",
    "print(type(mydict))\n",
    "print(mydict)\n",
    "print(dir(mydict))"
   ]
  },
  {
   "cell_type": "code",
   "execution_count": 81,
   "metadata": {},
   "outputs": [
    {
     "name": "stdout",
     "output_type": "stream",
     "text": [
      "[1, 2, 3, 4]\n",
      "['hello', 1, 2, 3, 4, 'hi', 'bye']\n",
      "['hello', 1, 2, 3, 4, 'hi', 'bye']\n",
      "[1, 2, 3, 4]\n"
     ]
    }
   ],
   "source": [
    "l = [ 1, 2, 3, 4]\n",
    "k = l\n",
    "j = l.copy()\n",
    "print(l)\n",
    "l.insert(0,'hello')\n",
    "l.append('hi')\n",
    "l.append('bye')\n",
    "print(l)\n",
    "print(k)\n",
    "print(j)\n"
   ]
  },
  {
   "cell_type": "code",
   "execution_count": 83,
   "metadata": {},
   "outputs": [
    {
     "name": "stdout",
     "output_type": "stream",
     "text": [
      "['__class__', '__contains__', '__delattr__', '__delitem__', '__dir__', '__doc__', '__eq__', '__format__', '__ge__', '__getattribute__', '__getitem__', '__gt__', '__hash__', '__init__', '__init_subclass__', '__iter__', '__le__', '__len__', '__lt__', '__ne__', '__new__', '__reduce__', '__reduce_ex__', '__repr__', '__setattr__', '__setitem__', '__sizeof__', '__str__', '__subclasshook__', 'clear', 'copy', 'fromkeys', 'get', 'items', 'keys', 'pop', 'popitem', 'setdefault', 'update', 'values']\n",
      "{'name': 'hari', 'age': 21, 'language': 'hindi', 'skills': ['linux', 'python', 'r', 'sql'], 'country': 'india'}\n"
     ]
    }
   ],
   "source": [
    "info = { \n",
    "        'name':'hari',\n",
    "        'age' : 21,\n",
    "        'language': 'hindi',\n",
    "        'skills' : ['linux','python','r','sql'],\n",
    "        'country' : 'india'\n",
    "        }\n",
    "print(dir(info))\n",
    "print(info)"
   ]
  },
  {
   "cell_type": "code",
   "execution_count": 85,
   "metadata": {},
   "outputs": [
    {
     "name": "stdout",
     "output_type": "stream",
     "text": [
      "Name =  hari\n",
      "skils =  linux python r sql\n"
     ]
    }
   ],
   "source": [
    "print(\"Name = \",info['name'])\n",
    "print(\"skils = \",*info['skills'])"
   ]
  },
  {
   "cell_type": "code",
   "execution_count": 88,
   "metadata": {},
   "outputs": [
    {
     "name": "stdout",
     "output_type": "stream",
     "text": [
      "hari\n",
      "python\n"
     ]
    }
   ],
   "source": [
    "print(info['name'])\n",
    "info['name'] = 'python'\n",
    "print(info['name'])"
   ]
  },
  {
   "cell_type": "code",
   "execution_count": 89,
   "metadata": {},
   "outputs": [
    {
     "name": "stdout",
     "output_type": "stream",
     "text": [
      "{'name': 'python', 'age': 21, 'language': 'hindi', 'skills': ['linux', 'python', 'r', 'sql'], 'country': 'india', 'address': 'jaipur'}\n"
     ]
    }
   ],
   "source": [
    "info['address'] = 'jaipur'\n",
    "print(info)"
   ]
  },
  {
   "cell_type": "code",
   "execution_count": 90,
   "metadata": {},
   "outputs": [
    {
     "name": "stdout",
     "output_type": "stream",
     "text": [
      "name age language skills country address\n"
     ]
    }
   ],
   "source": [
    "print(*info)"
   ]
  },
  {
   "cell_type": "code",
   "execution_count": 91,
   "metadata": {},
   "outputs": [
    {
     "name": "stdout",
     "output_type": "stream",
     "text": [
      "['__class__', '__contains__', '__delattr__', '__delitem__', '__dir__', '__doc__', '__eq__', '__format__', '__ge__', '__getattribute__', '__getitem__', '__gt__', '__hash__', '__init__', '__init_subclass__', '__iter__', '__le__', '__len__', '__lt__', '__ne__', '__new__', '__reduce__', '__reduce_ex__', '__repr__', '__setattr__', '__setitem__', '__sizeof__', '__str__', '__subclasshook__', 'clear', 'copy', 'fromkeys', 'get', 'items', 'keys', 'pop', 'popitem', 'setdefault', 'update', 'values']\n"
     ]
    }
   ],
   "source": [
    "print(dir(info))"
   ]
  },
  {
   "cell_type": "code",
   "execution_count": 92,
   "metadata": {},
   "outputs": [
    {
     "name": "stdout",
     "output_type": "stream",
     "text": [
      "python\n"
     ]
    }
   ],
   "source": [
    "x = info.get('name')\n",
    "print(x)"
   ]
  },
  {
   "cell_type": "code",
   "execution_count": 96,
   "metadata": {},
   "outputs": [
    {
     "name": "stdout",
     "output_type": "stream",
     "text": [
      "None\n"
     ]
    }
   ],
   "source": [
    "y = info.get('shorcut')\n",
    "print(y)"
   ]
  },
  {
   "cell_type": "code",
   "execution_count": 97,
   "metadata": {},
   "outputs": [
    {
     "name": "stdout",
     "output_type": "stream",
     "text": [
      "dict_keys(['name', 'age', 'language', 'skills', 'country', 'address'])\n"
     ]
    }
   ],
   "source": [
    "print(info.keys())"
   ]
  },
  {
   "cell_type": "code",
   "execution_count": 98,
   "metadata": {},
   "outputs": [
    {
     "name": "stdout",
     "output_type": "stream",
     "text": [
      "dict_values(['python', 21, 'hindi', ['linux', 'python', 'r', 'sql'], 'india', 'jaipur'])\n"
     ]
    }
   ],
   "source": [
    "print(info.values())"
   ]
  },
  {
   "cell_type": "code",
   "execution_count": 99,
   "metadata": {},
   "outputs": [
    {
     "name": "stdout",
     "output_type": "stream",
     "text": [
      "dict_items([('name', 'python'), ('age', 21), ('language', 'hindi'), ('skills', ['linux', 'python', 'r', 'sql']), ('country', 'india'), ('address', 'jaipur')])\n"
     ]
    }
   ],
   "source": [
    "print(info.items())"
   ]
  },
  {
   "cell_type": "code",
   "execution_count": null,
   "metadata": {
    "collapsed": true
   },
   "outputs": [],
   "source": []
  }
 ],
 "metadata": {
  "celltoolbar": "Slideshow",
  "kernelspec": {
   "display_name": "Python 3",
   "language": "python",
   "name": "python3"
  },
  "language_info": {
   "codemirror_mode": {
    "name": "ipython",
    "version": 3
   },
   "file_extension": ".py",
   "mimetype": "text/x-python",
   "name": "python",
   "nbconvert_exporter": "python",
   "pygments_lexer": "ipython3",
   "version": "3.6.3"
  }
 },
 "nbformat": 4,
 "nbformat_minor": 2
}
